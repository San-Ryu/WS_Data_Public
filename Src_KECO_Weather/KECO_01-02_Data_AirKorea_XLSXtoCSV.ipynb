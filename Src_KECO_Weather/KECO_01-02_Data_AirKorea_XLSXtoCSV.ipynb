{
 "cells": [
  {
   "cell_type": "markdown",
   "metadata": {},
   "source": [
    "### Code Hist."
   ]
  },
  {
   "cell_type": "markdown",
   "metadata": {},
   "source": [
    " - CODE : Crawling - 한국환경공단 대기오염 (KECO Airkorea) 관측정보\n",
    "\n",
    " - DESC  \n",
    "    &ensp; 1) Open API 사용 불가.  \n",
    "    &emsp;&ensp;&ensp; 특히, 시간별 통계자료는 Air Korea에서 직접 다운로드  \n",
    "    &emsp;&ensp;&ensp; (https://www.airkorea.or.kr/web/last_amb_hour_data)  \n",
    "    &ensp; 2) 결측치가 너무 많아서 KECO_AIR Korea 데이터 사용 고려중  \n",
    "    \n",
    "  - DATE  \n",
    "    &ensp; 2023-05-26 Created  \n",
    "    &ensp; 2023-11-27 Lab Updated  \n",
    "    &emsp;&emsp;&emsp;&emsp;&emsp;&emsp; 1) 기존 Template에 맞게 통일  \n",
    "    &emsp;&emsp;&emsp;&emsp;&emsp;&emsp; 2) 공통코드 사용 (.ipynb)  "
   ]
  },
  {
   "cell_type": "markdown",
   "metadata": {},
   "source": [
    "# 01. Code"
   ]
  },
  {
   "cell_type": "markdown",
   "metadata": {},
   "source": [
    "## 01-01. Init"
   ]
  },
  {
   "cell_type": "markdown",
   "metadata": {},
   "source": [
    "### 01-01-01. Init_Module Import"
   ]
  },
  {
   "cell_type": "code",
   "execution_count": 1,
   "metadata": {},
   "outputs": [],
   "source": [
    "#region Basic_Import\n",
    "## Basic\n",
    "import os, sys, warnings\n",
    "os.path.dirname(os.path.abspath('./__file__'))\n",
    "sys.path.append(os.path.dirname(os.path.abspath(os.path.dirname('./__file__'))))\n",
    "warnings.filterwarnings('ignore')\n",
    "\n",
    "import numpy as np, pandas as pd\n",
    "from pandas import DataFrame, Series\n",
    "pd.options.display.float_format = '{:.10f}'.format\n",
    "\n",
    "## Datetime\n",
    "import time, datetime as dt\n",
    "from datetime import datetime, date, timedelta\n",
    "\n",
    "## glob : \n",
    "import glob, requests, json\n",
    "from glob import glob\n",
    "\n",
    "from scipy import stats\n",
    "\n",
    "## Excel/CSV\n",
    "import openpyxl, xlrd\n",
    "\n",
    "import urllib\n",
    "from urllib.request import urlopen\n",
    "from urllib.parse import urlencode, unquote, quote_plus\n",
    "\n",
    "from selenium import webdriver\n",
    "from selenium.webdriver.chrome.service import Service\n",
    "\n",
    "from webdriver_manager.chrome import ChromeDriverManager\n",
    "from bs4 import BeautifulSoup\n",
    "\n",
    "## 시각화\n",
    "import seaborn as sns, matplotlib.pyplot as plt\n",
    "# %matplotlib inline\n",
    "plt.rcParams['figure.figsize'] = [10, 8]\n",
    "\n",
    "#endregion Basic_Import"
   ]
  },
  {
   "cell_type": "code",
   "execution_count": 2,
   "metadata": {},
   "outputs": [
    {
     "name": "stdout",
     "output_type": "stream",
     "text": [
      "Tensorflow Imported\n"
     ]
    }
   ],
   "source": [
    "## Import_DL\n",
    "str_tar = \"tf\"\n",
    "## For Torch\n",
    "if str_tar == \"torch\":\n",
    "    import torch, torch.nn as nn\n",
    "    from torch.nn.utils import weight_norm\n",
    "    print(\"Torch Imported\")\n",
    "## For TF\n",
    "elif str_tar == \"tf\":\n",
    "    import tensorflow as tf, tensorflow_addons as tfa\n",
    "    print(\"Tensorflow Imported\")\n",
    "else:\n",
    "    print(\"Error : Cannot be used except for Keywords\")\n",
    "    print(\" : torch / tf\")"
   ]
  },
  {
   "cell_type": "code",
   "execution_count": 3,
   "metadata": {},
   "outputs": [],
   "source": [
    "## Import_Local\n",
    "from Dev_Common import Data_Datetime as com_date, KMA_Weather as com_KMA, KECO_AirKor as com_KECO, KASI_Holiday as com_Holi"
   ]
  },
  {
   "cell_type": "markdown",
   "metadata": {},
   "source": [
    "### 01-01-02. Config (Directory, Params)"
   ]
  },
  {
   "cell_type": "code",
   "execution_count": 4,
   "metadata": {},
   "outputs": [],
   "source": [
    "## Init_config\n",
    "SEED = 42\n",
    "\n",
    "np.random.seed(SEED)\n",
    "tf.random.set_seed(SEED)\n",
    "os.environ[\"PYTHONHASHSEED\"] = str(SEED)\n",
    "os.environ['TF_DETERMINISTIC_OPS'] = \"1\"\n",
    "# random.seed(SEED)"
   ]
  },
  {
   "cell_type": "code",
   "execution_count": 5,
   "metadata": {},
   "outputs": [
    {
     "name": "stdout",
     "output_type": "stream",
     "text": [
      "2024-07-19 17:36:19.742585\n",
      "2024 / 7 / 19\n",
      "17 : 36\n"
     ]
    }
   ],
   "source": [
    "## Define Todate str\n",
    "str_now_ymd = pd.datetime.now().date()\n",
    "str_now_y, str_now_m, str_now_d = pd.datetime.now().year, pd.datetime.now().month, pd.datetime.now().day\n",
    "str_now_hr, str_now_min = pd.datetime.now().hour, pd.datetime.now().minute\n",
    "\n",
    "print(pd.datetime.now())\n",
    "print(str(str_now_y) + \" / \" + str(str_now_m)  + \" / \" + str(str_now_d))\n",
    "print(str(str_now_hr) + \" : \" + str(str_now_min))"
   ]
  },
  {
   "cell_type": "code",
   "execution_count": 6,
   "metadata": {},
   "outputs": [
    {
     "name": "stdout",
     "output_type": "stream",
     "text": [
      "['KECO_AIRKOR_2017-01.xlsx', 'KECO_AIRKOR_2017-02.xlsx', 'KECO_AIRKOR_2017-03.xlsx', 'KECO_AIRKOR_2017-04.xlsx', 'KECO_AIRKOR_2017-05.xlsx', 'KECO_AIRKOR_2017-06.xlsx', 'KECO_AIRKOR_2017-07.xlsx', 'KECO_AIRKOR_2017-08.xlsx', 'KECO_AIRKOR_2017-09.xlsx', 'KECO_AIRKOR_2017-10.xlsx', 'KECO_AIRKOR_2017-11.xlsx', 'KECO_AIRKOR_2017-12.xlsx', 'KECO_AIRKOR_2019-01.xlsx', 'KECO_AIRKOR_2019-02.xlsx', 'KECO_AIRKOR_2019-03.xlsx', 'KECO_AIRKOR_2019-04.xlsx', 'KECO_AIRKOR_2019-05.xlsx', 'KECO_AIRKOR_2019-06.xlsx', 'KECO_AIRKOR_2019-07.xlsx', 'KECO_AIRKOR_2019-08.xlsx', 'KECO_AIRKOR_2019-09.xlsx', 'KECO_AIRKOR_2019-10.xlsx', 'KECO_AIRKOR_2019-11.xlsx', 'KECO_AIRKOR_2019-12.xlsx', 'KECO_AIRKOR_2020-01.xlsx', 'KECO_AIRKOR_2020-02.xlsx', 'KECO_AIRKOR_2020-03.xlsx', 'KECO_AIRKOR_2020-04.xlsx', 'KECO_AIRKOR_2020-05.xlsx', 'KECO_AIRKOR_2020-06.xlsx', 'KECO_AIRKOR_2020-07.xlsx', 'KECO_AIRKOR_2020-08.xlsx', 'KECO_AIRKOR_2020-09.xlsx', 'KECO_AIRKOR_2020-10.xlsx', 'KECO_AIRKOR_2020-11.xlsx', 'KECO_AIRKOR_2020-12.xlsx', 'KECO_AIRKOR_2021-01.xlsx', 'KECO_AIRKOR_2021-02.xlsx', 'KECO_AIRKOR_2021-03.xlsx', 'KECO_AIRKOR_2021-04.xlsx', 'KECO_AIRKOR_2021-05.xlsx', 'KECO_AIRKOR_2021-06.xlsx', 'KECO_AIRKOR_2021-07.xlsx', 'KECO_AIRKOR_2021-08.xlsx', 'KECO_AIRKOR_2021-09.xlsx', 'KECO_AIRKOR_2021-10.xlsx', 'KECO_AIRKOR_2021-11.xlsx', 'KECO_AIRKOR_2021-12.xlsx', 'KECO_AIRKOR_2022-01.xlsx', 'KECO_AIRKOR_2022-02.xlsx', 'KECO_AIRKOR_2022-03.xlsx', 'KECO_AIRKOR_2022-04.xlsx', 'KECO_AIRKOR_2022-05.xlsx', 'KECO_AIRKOR_2022-06.xlsx', 'KECO_AIRKOR_2022-07.xlsx', 'KECO_AIRKOR_2022-08.xlsx', 'KECO_AIRKOR_2022-09.xlsx', 'KECO_AIRKOR_2022-10.xlsx', 'KECO_AIRKOR_2022-11.xlsx', 'KECO_AIRKOR_2022-12.xlsx', 'KECO_AIRKOR_2023-01.xlsx', 'KECO_AIRKOR_2023-02.xlsx', 'KECO_AIRKOR_2023-03.xlsx', 'KECO_AIRKOR_2023-04.xlsx', 'KECO_AIRKOR_2023-05.xlsx', 'KECO_AIRKOR_2023-06.xlsx', 'KECO_AIRKOR_2023-07.xlsx', 'KECO_AIRKOR_2023-08.xlsx', 'KECO_AIRKOR_2023-09.xlsx', 'KECO_AIRKOR_2023-10.xlsx', 'KECO_AIRKOR_2023-11.xlsx', 'KECO_AIRKOR_2023-12.xlsx']\n",
      "72\n"
     ]
    },
    {
     "data": {
      "text/plain": [
       "['../data_KECO_Airkor_HR/file_xlsx\\\\KECO_AIRKOR_2017-01.xlsx',\n",
       " '../data_KECO_Airkor_HR/file_xlsx\\\\KECO_AIRKOR_2017-02.xlsx',\n",
       " '../data_KECO_Airkor_HR/file_xlsx\\\\KECO_AIRKOR_2017-03.xlsx',\n",
       " '../data_KECO_Airkor_HR/file_xlsx\\\\KECO_AIRKOR_2017-04.xlsx',\n",
       " '../data_KECO_Airkor_HR/file_xlsx\\\\KECO_AIRKOR_2017-05.xlsx',\n",
       " '../data_KECO_Airkor_HR/file_xlsx\\\\KECO_AIRKOR_2017-06.xlsx',\n",
       " '../data_KECO_Airkor_HR/file_xlsx\\\\KECO_AIRKOR_2017-07.xlsx',\n",
       " '../data_KECO_Airkor_HR/file_xlsx\\\\KECO_AIRKOR_2017-08.xlsx',\n",
       " '../data_KECO_Airkor_HR/file_xlsx\\\\KECO_AIRKOR_2017-09.xlsx',\n",
       " '../data_KECO_Airkor_HR/file_xlsx\\\\KECO_AIRKOR_2017-10.xlsx',\n",
       " '../data_KECO_Airkor_HR/file_xlsx\\\\KECO_AIRKOR_2017-11.xlsx',\n",
       " '../data_KECO_Airkor_HR/file_xlsx\\\\KECO_AIRKOR_2017-12.xlsx',\n",
       " '../data_KECO_Airkor_HR/file_xlsx\\\\KECO_AIRKOR_2019-01.xlsx',\n",
       " '../data_KECO_Airkor_HR/file_xlsx\\\\KECO_AIRKOR_2019-02.xlsx',\n",
       " '../data_KECO_Airkor_HR/file_xlsx\\\\KECO_AIRKOR_2019-03.xlsx',\n",
       " '../data_KECO_Airkor_HR/file_xlsx\\\\KECO_AIRKOR_2019-04.xlsx',\n",
       " '../data_KECO_Airkor_HR/file_xlsx\\\\KECO_AIRKOR_2019-05.xlsx',\n",
       " '../data_KECO_Airkor_HR/file_xlsx\\\\KECO_AIRKOR_2019-06.xlsx',\n",
       " '../data_KECO_Airkor_HR/file_xlsx\\\\KECO_AIRKOR_2019-07.xlsx',\n",
       " '../data_KECO_Airkor_HR/file_xlsx\\\\KECO_AIRKOR_2019-08.xlsx',\n",
       " '../data_KECO_Airkor_HR/file_xlsx\\\\KECO_AIRKOR_2019-09.xlsx',\n",
       " '../data_KECO_Airkor_HR/file_xlsx\\\\KECO_AIRKOR_2019-10.xlsx',\n",
       " '../data_KECO_Airkor_HR/file_xlsx\\\\KECO_AIRKOR_2019-11.xlsx',\n",
       " '../data_KECO_Airkor_HR/file_xlsx\\\\KECO_AIRKOR_2019-12.xlsx',\n",
       " '../data_KECO_Airkor_HR/file_xlsx\\\\KECO_AIRKOR_2020-01.xlsx',\n",
       " '../data_KECO_Airkor_HR/file_xlsx\\\\KECO_AIRKOR_2020-02.xlsx',\n",
       " '../data_KECO_Airkor_HR/file_xlsx\\\\KECO_AIRKOR_2020-03.xlsx',\n",
       " '../data_KECO_Airkor_HR/file_xlsx\\\\KECO_AIRKOR_2020-04.xlsx',\n",
       " '../data_KECO_Airkor_HR/file_xlsx\\\\KECO_AIRKOR_2020-05.xlsx',\n",
       " '../data_KECO_Airkor_HR/file_xlsx\\\\KECO_AIRKOR_2020-06.xlsx',\n",
       " '../data_KECO_Airkor_HR/file_xlsx\\\\KECO_AIRKOR_2020-07.xlsx',\n",
       " '../data_KECO_Airkor_HR/file_xlsx\\\\KECO_AIRKOR_2020-08.xlsx',\n",
       " '../data_KECO_Airkor_HR/file_xlsx\\\\KECO_AIRKOR_2020-09.xlsx',\n",
       " '../data_KECO_Airkor_HR/file_xlsx\\\\KECO_AIRKOR_2020-10.xlsx',\n",
       " '../data_KECO_Airkor_HR/file_xlsx\\\\KECO_AIRKOR_2020-11.xlsx',\n",
       " '../data_KECO_Airkor_HR/file_xlsx\\\\KECO_AIRKOR_2020-12.xlsx',\n",
       " '../data_KECO_Airkor_HR/file_xlsx\\\\KECO_AIRKOR_2021-01.xlsx',\n",
       " '../data_KECO_Airkor_HR/file_xlsx\\\\KECO_AIRKOR_2021-02.xlsx',\n",
       " '../data_KECO_Airkor_HR/file_xlsx\\\\KECO_AIRKOR_2021-03.xlsx',\n",
       " '../data_KECO_Airkor_HR/file_xlsx\\\\KECO_AIRKOR_2021-04.xlsx',\n",
       " '../data_KECO_Airkor_HR/file_xlsx\\\\KECO_AIRKOR_2021-05.xlsx',\n",
       " '../data_KECO_Airkor_HR/file_xlsx\\\\KECO_AIRKOR_2021-06.xlsx',\n",
       " '../data_KECO_Airkor_HR/file_xlsx\\\\KECO_AIRKOR_2021-07.xlsx',\n",
       " '../data_KECO_Airkor_HR/file_xlsx\\\\KECO_AIRKOR_2021-08.xlsx',\n",
       " '../data_KECO_Airkor_HR/file_xlsx\\\\KECO_AIRKOR_2021-09.xlsx',\n",
       " '../data_KECO_Airkor_HR/file_xlsx\\\\KECO_AIRKOR_2021-10.xlsx',\n",
       " '../data_KECO_Airkor_HR/file_xlsx\\\\KECO_AIRKOR_2021-11.xlsx',\n",
       " '../data_KECO_Airkor_HR/file_xlsx\\\\KECO_AIRKOR_2021-12.xlsx',\n",
       " '../data_KECO_Airkor_HR/file_xlsx\\\\KECO_AIRKOR_2022-01.xlsx',\n",
       " '../data_KECO_Airkor_HR/file_xlsx\\\\KECO_AIRKOR_2022-02.xlsx',\n",
       " '../data_KECO_Airkor_HR/file_xlsx\\\\KECO_AIRKOR_2022-03.xlsx',\n",
       " '../data_KECO_Airkor_HR/file_xlsx\\\\KECO_AIRKOR_2022-04.xlsx',\n",
       " '../data_KECO_Airkor_HR/file_xlsx\\\\KECO_AIRKOR_2022-05.xlsx',\n",
       " '../data_KECO_Airkor_HR/file_xlsx\\\\KECO_AIRKOR_2022-06.xlsx',\n",
       " '../data_KECO_Airkor_HR/file_xlsx\\\\KECO_AIRKOR_2022-07.xlsx',\n",
       " '../data_KECO_Airkor_HR/file_xlsx\\\\KECO_AIRKOR_2022-08.xlsx',\n",
       " '../data_KECO_Airkor_HR/file_xlsx\\\\KECO_AIRKOR_2022-09.xlsx',\n",
       " '../data_KECO_Airkor_HR/file_xlsx\\\\KECO_AIRKOR_2022-10.xlsx',\n",
       " '../data_KECO_Airkor_HR/file_xlsx\\\\KECO_AIRKOR_2022-11.xlsx',\n",
       " '../data_KECO_Airkor_HR/file_xlsx\\\\KECO_AIRKOR_2022-12.xlsx',\n",
       " '../data_KECO_Airkor_HR/file_xlsx\\\\KECO_AIRKOR_2023-01.xlsx',\n",
       " '../data_KECO_Airkor_HR/file_xlsx\\\\KECO_AIRKOR_2023-02.xlsx',\n",
       " '../data_KECO_Airkor_HR/file_xlsx\\\\KECO_AIRKOR_2023-03.xlsx',\n",
       " '../data_KECO_Airkor_HR/file_xlsx\\\\KECO_AIRKOR_2023-04.xlsx',\n",
       " '../data_KECO_Airkor_HR/file_xlsx\\\\KECO_AIRKOR_2023-05.xlsx',\n",
       " '../data_KECO_Airkor_HR/file_xlsx\\\\KECO_AIRKOR_2023-06.xlsx',\n",
       " '../data_KECO_Airkor_HR/file_xlsx\\\\KECO_AIRKOR_2023-07.xlsx',\n",
       " '../data_KECO_Airkor_HR/file_xlsx\\\\KECO_AIRKOR_2023-08.xlsx',\n",
       " '../data_KECO_Airkor_HR/file_xlsx\\\\KECO_AIRKOR_2023-09.xlsx',\n",
       " '../data_KECO_Airkor_HR/file_xlsx\\\\KECO_AIRKOR_2023-10.xlsx',\n",
       " '../data_KECO_Airkor_HR/file_xlsx\\\\KECO_AIRKOR_2023-11.xlsx',\n",
       " '../data_KECO_Airkor_HR/file_xlsx\\\\KECO_AIRKOR_2023-12.xlsx']"
      ]
     },
     "execution_count": 6,
     "metadata": {},
     "output_type": "execute_result"
    }
   ],
   "source": [
    "# Define data root directory\n",
    "str_dir_Airkor_HR = \"../data_KECO_Airkor_HR/\"\n",
    "str_dir_xlsx = \"../data_KECO_Airkor_HR/file_xlsx/\"\n",
    "print(os.listdir(str_dir_xlsx))\n",
    "\n",
    "list_file_quarter = glob(str_dir_xlsx + \"*.xlsx\")\n",
    "print(len(list_file_quarter))\n",
    "list_file_quarter"
   ]
  },
  {
   "cell_type": "markdown",
   "metadata": {},
   "source": [
    "## 01-02. Data Load (df_raw)"
   ]
  },
  {
   "cell_type": "code",
   "execution_count": 7,
   "metadata": {},
   "outputs": [
    {
     "name": "stdout",
     "output_type": "stream",
     "text": [
      "KECO_AIRKOR_2017-01\n",
      "True\n",
      "KECO_AIRKOR_2017-02\n",
      "True\n",
      "KECO_AIRKOR_2017-03\n",
      "True\n",
      "KECO_AIRKOR_2017-04\n",
      "True\n",
      "KECO_AIRKOR_2017-05\n",
      "True\n",
      "KECO_AIRKOR_2017-06\n",
      "True\n",
      "KECO_AIRKOR_2017-07\n",
      "True\n",
      "KECO_AIRKOR_2017-08\n",
      "True\n",
      "KECO_AIRKOR_2017-09\n",
      "True\n",
      "KECO_AIRKOR_2017-10\n",
      "True\n",
      "KECO_AIRKOR_2017-11\n",
      "True\n",
      "KECO_AIRKOR_2017-12\n",
      "True\n",
      "KECO_AIRKOR_2019-01\n",
      "True\n",
      "KECO_AIRKOR_2019-02\n",
      "True\n",
      "KECO_AIRKOR_2019-03\n",
      "True\n",
      "KECO_AIRKOR_2019-04\n",
      "True\n",
      "KECO_AIRKOR_2019-05\n",
      "True\n",
      "KECO_AIRKOR_2019-06\n",
      "True\n",
      "KECO_AIRKOR_2019-07\n",
      "True\n",
      "KECO_AIRKOR_2019-08\n",
      "True\n",
      "KECO_AIRKOR_2019-09\n",
      "True\n",
      "KECO_AIRKOR_2019-10\n",
      "True\n",
      "KECO_AIRKOR_2019-11\n",
      "True\n",
      "KECO_AIRKOR_2019-12\n",
      "True\n",
      "KECO_AIRKOR_2020-01\n",
      "True\n",
      "KECO_AIRKOR_2020-02\n",
      "True\n",
      "KECO_AIRKOR_2020-03\n",
      "True\n",
      "KECO_AIRKOR_2020-04\n",
      "True\n",
      "KECO_AIRKOR_2020-05\n",
      "True\n",
      "KECO_AIRKOR_2020-06\n",
      "True\n",
      "KECO_AIRKOR_2020-07\n",
      "True\n",
      "KECO_AIRKOR_2020-08\n",
      "True\n",
      "KECO_AIRKOR_2020-09\n",
      "True\n",
      "KECO_AIRKOR_2020-10\n",
      "True\n",
      "KECO_AIRKOR_2020-11\n",
      "True\n",
      "KECO_AIRKOR_2020-12\n",
      "True\n",
      "KECO_AIRKOR_2021-01\n",
      "True\n",
      "KECO_AIRKOR_2021-02\n",
      "True\n",
      "KECO_AIRKOR_2021-03\n",
      "True\n",
      "KECO_AIRKOR_2021-04\n",
      "True\n",
      "KECO_AIRKOR_2021-05\n",
      "True\n",
      "KECO_AIRKOR_2021-06\n",
      "True\n",
      "KECO_AIRKOR_2021-07\n",
      "True\n",
      "KECO_AIRKOR_2021-08\n",
      "True\n",
      "KECO_AIRKOR_2021-09\n",
      "True\n",
      "KECO_AIRKOR_2021-10\n",
      "True\n",
      "KECO_AIRKOR_2021-11\n",
      "True\n",
      "KECO_AIRKOR_2021-12\n",
      "True\n",
      "KECO_AIRKOR_2022-01\n",
      "True\n",
      "KECO_AIRKOR_2022-02\n",
      "True\n",
      "KECO_AIRKOR_2022-03\n",
      "True\n",
      "KECO_AIRKOR_2022-04\n",
      "True\n",
      "KECO_AIRKOR_2022-05\n",
      "True\n",
      "KECO_AIRKOR_2022-06\n",
      "True\n",
      "KECO_AIRKOR_2022-07\n",
      "True\n",
      "KECO_AIRKOR_2022-08\n",
      "True\n",
      "KECO_AIRKOR_2022-09\n",
      "True\n",
      "KECO_AIRKOR_2022-10\n",
      "True\n",
      "KECO_AIRKOR_2022-11\n",
      "True\n",
      "KECO_AIRKOR_2022-12\n",
      "True\n",
      "KECO_AIRKOR_2023-01\n",
      "True\n",
      "KECO_AIRKOR_2023-02\n",
      "True\n",
      "KECO_AIRKOR_2023-03\n",
      "True\n",
      "KECO_AIRKOR_2023-04\n",
      "True\n",
      "KECO_AIRKOR_2023-05\n",
      "True\n",
      "KECO_AIRKOR_2023-06\n",
      "True\n",
      "KECO_AIRKOR_2023-07\n",
      "True\n",
      "KECO_AIRKOR_2023-08\n",
      "True\n",
      "KECO_AIRKOR_2023-09\n",
      "True\n",
      "KECO_AIRKOR_2023-10\n",
      "True\n",
      "KECO_AIRKOR_2023-11\n",
      "True\n",
      "KECO_AIRKOR_2023-12\n",
      "True\n"
     ]
    }
   ],
   "source": [
    "## 단순 Xlsx -> CSV 변환\n",
    "for i in range(0, len(list_file_quarter)):\n",
    "    str_file = str(list_file_quarter[i])[len(str_dir_xlsx):-5]\n",
    "    print(str_file)\n",
    "\n",
    "    try : \n",
    "        print(True)\n",
    "        Data_KECO_AIR_tmp = pd.read_excel(str_dir_xlsx + str_file + '.xlsx', engine='openpyxl')\n",
    "        Data_KECO_AIR_tmp.to_csv(str_dir_Airkor_HR + str_file + '.csv')\n",
    "    except Exception as e : ## BadZipFile: File is not a zip file\n",
    "        ## 통상 Xlsx 파일이 잘못되었을 때의 문제이나, \n",
    "        ## 현재 케이스에서는 CSV임에도 xlsx 확장자명으로 잘못 업로드된 파일인 것 같다.\n",
    "        if e == 'File is not a zip file':\n",
    "            print(e)\n",
    "            Data_KECO_AIR_tmp = pd.read_csv(str_dir_xlsx + str_file + '.xlsx', index_col=0)\n",
    "            Data_KECO_AIR_tmp.to_csv(str_dir_Airkor_HR + str_file + '.csv')"
   ]
  },
  {
   "cell_type": "code",
   "execution_count": 8,
   "metadata": {},
   "outputs": [
    {
     "ename": "NameError",
     "evalue": "name 'str_dir_kecoAirKor' is not defined",
     "output_type": "error",
     "traceback": [
      "\u001b[1;31m---------------------------------------------------------------------------\u001b[0m",
      "\u001b[1;31mNameError\u001b[0m                                 Traceback (most recent call last)",
      "Cell \u001b[1;32mIn[8], line 1\u001b[0m\n\u001b[1;32m----> 1\u001b[0m Data_KECO_AIR_tmp \u001b[38;5;241m=\u001b[39m pd\u001b[38;5;241m.\u001b[39mread_csv(\u001b[43mstr_dir_kecoAirKor\u001b[49m \u001b[38;5;241m+\u001b[39m str_file, index_col\u001b[38;5;241m=\u001b[39m\u001b[38;5;241m0\u001b[39m)\n\u001b[0;32m      2\u001b[0m Data_KECO_AIR_tmp\n",
      "\u001b[1;31mNameError\u001b[0m: name 'str_dir_kecoAirKor' is not defined"
     ]
    }
   ],
   "source": [
    "Data_KECO_AIR_tmp = pd.read_csv(str_dir_kecoAirKor + str_file, index_col=0)\n",
    "Data_KECO_AIR_tmp"
   ]
  },
  {
   "cell_type": "code",
   "execution_count": null,
   "metadata": {},
   "outputs": [],
   "source": []
  },
  {
   "cell_type": "code",
   "execution_count": null,
   "metadata": {},
   "outputs": [],
   "source": []
  },
  {
   "cell_type": "code",
   "execution_count": null,
   "metadata": {},
   "outputs": [],
   "source": []
  }
 ],
 "metadata": {
  "anaconda-cloud": {},
  "kernelspec": {
   "display_name": "Python 3 (ipykernel)",
   "language": "python",
   "name": "python3"
  },
  "language_info": {
   "codemirror_mode": {
    "name": "ipython",
    "version": 3
   },
   "file_extension": ".py",
   "mimetype": "text/x-python",
   "name": "python",
   "nbconvert_exporter": "python",
   "pygments_lexer": "ipython3",
   "version": "3.10.9"
  }
 },
 "nbformat": 4,
 "nbformat_minor": 4
}
