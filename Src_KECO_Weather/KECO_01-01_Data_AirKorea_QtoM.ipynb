{
 "cells": [
  {
   "cell_type": "markdown",
   "metadata": {},
   "source": [
    "### Code Hist."
   ]
  },
  {
   "cell_type": "markdown",
   "metadata": {},
   "source": [
    " - CODE : Crawling - 한국환경공단 대기오염 (KECO Airkorea) 관측정보\n",
    "\n",
    " - DESC  \n",
    "    &ensp; 1) Open API 사용 불가.  \n",
    "    &emsp;&ensp;&ensp; 특히, 시간별 통계자료는 Air Korea에서 직접 다운로드  \n",
    "    &emsp;&ensp;&ensp; (https://www.airkorea.or.kr/web/last_amb_hour_data)  \n",
    "    &ensp; 2) 결측치가 너무 많아서 KECO_AIR Korea 데이터 사용 고려중  \n",
    "    \n",
    "  - DATE  \n",
    "    &ensp; 2023-05-26 Created  \n",
    "    &ensp; 2023-11-27 Lab Updated  \n",
    "    &emsp;&emsp;&emsp;&emsp;&emsp;&emsp; 1) 기존 Template에 맞게 통일  \n",
    "    &emsp;&emsp;&emsp;&emsp;&emsp;&emsp; 2) 공통코드 사용 (.ipynb)  "
   ]
  },
  {
   "cell_type": "markdown",
   "metadata": {},
   "source": [
    "# 01. Code"
   ]
  },
  {
   "cell_type": "markdown",
   "metadata": {},
   "source": [
    "## 01-01. Init"
   ]
  },
  {
   "cell_type": "markdown",
   "metadata": {},
   "source": [
    "### 01-01-01. Init_Module Import"
   ]
  },
  {
   "cell_type": "code",
   "execution_count": 2,
   "metadata": {},
   "outputs": [],
   "source": [
    "#region Basic_Import\n",
    "## Basic\n",
    "import os, sys, warnings\n",
    "os.path.dirname(os.path.abspath('./__file__'))\n",
    "sys.path.append(os.path.dirname(os.path.abspath(os.path.dirname('./__file__'))))\n",
    "warnings.filterwarnings('ignore')\n",
    "\n",
    "import numpy as np, pandas as pd\n",
    "from pandas import DataFrame, Series\n",
    "pd.options.display.float_format = '{:.10f}'.format\n",
    "\n",
    "## Datetime\n",
    "import time, datetime as dt\n",
    "from datetime import datetime, date, timedelta\n",
    "\n",
    "## glob\n",
    "import glob, requests, json\n",
    "from glob import glob\n",
    "\n",
    "from scipy import stats\n",
    "\n",
    "## Excel/CSV\n",
    "import openpyxl, xlrd\n",
    "\n",
    "import urllib\n",
    "from urllib.request import urlopen\n",
    "from urllib.parse import urlencode, unquote, quote_plus\n",
    "\n",
    "from selenium import webdriver\n",
    "from selenium.webdriver.chrome.service import Service\n",
    "\n",
    "from webdriver_manager.chrome import ChromeDriverManager\n",
    "from bs4 import BeautifulSoup\n",
    "\n",
    "## 시각화\n",
    "import seaborn as sns, matplotlib.pyplot as plt\n",
    "# %matplotlib inline\n",
    "plt.rcParams['figure.figsize'] = [10, 8]\n",
    "\n",
    "#endregion Basic_Import"
   ]
  },
  {
   "cell_type": "code",
   "execution_count": 3,
   "metadata": {},
   "outputs": [
    {
     "name": "stdout",
     "output_type": "stream",
     "text": [
      "Tensorflow Imported\n"
     ]
    }
   ],
   "source": [
    "## Import_DL\n",
    "str_tar = \"tf\"\n",
    "## For Torch\n",
    "if str_tar == \"torch\":\n",
    "    import torch, torch.nn as nn\n",
    "    from torch.nn.utils import weight_norm\n",
    "    print(\"Torch Imported\")\n",
    "## For TF\n",
    "elif str_tar == \"tf\":\n",
    "    import tensorflow as tf, tensorflow_addons as tfa\n",
    "    print(\"Tensorflow Imported\")\n",
    "else:\n",
    "    print(\"Error : Cannot be used except for Keywords\")\n",
    "    print(\" : torch / tf\")"
   ]
  },
  {
   "cell_type": "code",
   "execution_count": 4,
   "metadata": {},
   "outputs": [],
   "source": [
    "## Import_Local\n",
    "from Src_Dev_Common import Data_Datetime as com_date, KMA_Weather as com_KMA, KECO_AirKor as com_KECO, KASI_Holiday as com_Holi"
   ]
  },
  {
   "cell_type": "markdown",
   "metadata": {},
   "source": [
    "### 01-01-02. Config (Directory, Params)"
   ]
  },
  {
   "cell_type": "code",
   "execution_count": 5,
   "metadata": {},
   "outputs": [],
   "source": [
    "## Init_config\n",
    "SEED = 42\n",
    "\n",
    "np.random.seed(SEED)\n",
    "tf.random.set_seed(SEED)\n",
    "os.environ[\"PYTHONHASHSEED\"] = str(SEED)\n",
    "os.environ['TF_DETERMINISTIC_OPS'] = \"1\"\n",
    "# random.seed(SEED)"
   ]
  },
  {
   "cell_type": "code",
   "execution_count": 6,
   "metadata": {},
   "outputs": [
    {
     "name": "stdout",
     "output_type": "stream",
     "text": [
      "2024-07-19 19:02:02.236909\n",
      "2024 / 7 / 19\n",
      "19 : 2\n"
     ]
    }
   ],
   "source": [
    "## Define Todate str\n",
    "str_now_ymd = pd.datetime.now().date()\n",
    "str_now_y, str_now_m, str_now_d = pd.datetime.now().year, pd.datetime.now().month, pd.datetime.now().day\n",
    "str_now_hr, str_now_min = pd.datetime.now().hour, pd.datetime.now().minute\n",
    "\n",
    "print(pd.datetime.now())\n",
    "print(str(str_now_y) + \" / \" + str(str_now_m)  + \" / \" + str(str_now_d))\n",
    "print(str(str_now_hr) + \" : \" + str(str_now_min))"
   ]
  },
  {
   "cell_type": "code",
   "execution_count": 7,
   "metadata": {},
   "outputs": [
    {
     "name": "stdout",
     "output_type": "stream",
     "text": [
      "['KECO_AIRKOR_2010-1Q.xlsx', 'KECO_AIRKOR_2010-2Q.xlsx', 'KECO_AIRKOR_2010-3Q.xlsx', 'KECO_AIRKOR_2010-4Q.xlsx', 'KECO_AIRKOR_2011-1Q.xlsx', 'KECO_AIRKOR_2011-2Q.xlsx', 'KECO_AIRKOR_2011-3Q.xlsx', 'KECO_AIRKOR_2011-4Q.xlsx', 'KECO_AIRKOR_2012-1Q.xlsx', 'KECO_AIRKOR_2012-2Q.xlsx', 'KECO_AIRKOR_2012-3Q.xlsx', 'KECO_AIRKOR_2012-4Q.xlsx', 'KECO_AIRKOR_2013-1Q.xlsx', 'KECO_AIRKOR_2013-2Q.xlsx', 'KECO_AIRKOR_2013-3Q.xlsx', 'KECO_AIRKOR_2013-4Q.xlsx', 'KECO_AIRKOR_2014-1Q.csv', 'KECO_AIRKOR_2014-2Q.csv', 'KECO_AIRKOR_2014-3Q.csv', 'KECO_AIRKOR_2014-4Q.csv', 'KECO_AIRKOR_2015-1Q.csv', 'KECO_AIRKOR_2015-2Q.csv', 'KECO_AIRKOR_2015-3Q.csv', 'KECO_AIRKOR_2015-4Q.csv', 'KECO_AIRKOR_2016-1Q.csv', 'KECO_AIRKOR_2016-2Q.csv', 'KECO_AIRKOR_2016-3Q.csv', 'KECO_AIRKOR_2016-4Q.csv', 'KECO_AIRKOR_2018-1Q.xlsx', 'KECO_AIRKOR_2018-2Q.xlsx', 'KECO_AIRKOR_2018-3Q.xlsx', 'KECO_AIRKOR_2018-4Q.xlsx']\n",
      "32\n"
     ]
    },
    {
     "data": {
      "text/plain": [
       "['../data_KECO_Airkor_HR/file_Quarter\\\\KECO_AIRKOR_2010-1Q.xlsx',\n",
       " '../data_KECO_Airkor_HR/file_Quarter\\\\KECO_AIRKOR_2010-2Q.xlsx',\n",
       " '../data_KECO_Airkor_HR/file_Quarter\\\\KECO_AIRKOR_2010-3Q.xlsx',\n",
       " '../data_KECO_Airkor_HR/file_Quarter\\\\KECO_AIRKOR_2010-4Q.xlsx',\n",
       " '../data_KECO_Airkor_HR/file_Quarter\\\\KECO_AIRKOR_2011-1Q.xlsx',\n",
       " '../data_KECO_Airkor_HR/file_Quarter\\\\KECO_AIRKOR_2011-2Q.xlsx',\n",
       " '../data_KECO_Airkor_HR/file_Quarter\\\\KECO_AIRKOR_2011-3Q.xlsx',\n",
       " '../data_KECO_Airkor_HR/file_Quarter\\\\KECO_AIRKOR_2011-4Q.xlsx',\n",
       " '../data_KECO_Airkor_HR/file_Quarter\\\\KECO_AIRKOR_2012-1Q.xlsx',\n",
       " '../data_KECO_Airkor_HR/file_Quarter\\\\KECO_AIRKOR_2012-2Q.xlsx',\n",
       " '../data_KECO_Airkor_HR/file_Quarter\\\\KECO_AIRKOR_2012-3Q.xlsx',\n",
       " '../data_KECO_Airkor_HR/file_Quarter\\\\KECO_AIRKOR_2012-4Q.xlsx',\n",
       " '../data_KECO_Airkor_HR/file_Quarter\\\\KECO_AIRKOR_2013-1Q.xlsx',\n",
       " '../data_KECO_Airkor_HR/file_Quarter\\\\KECO_AIRKOR_2013-2Q.xlsx',\n",
       " '../data_KECO_Airkor_HR/file_Quarter\\\\KECO_AIRKOR_2013-3Q.xlsx',\n",
       " '../data_KECO_Airkor_HR/file_Quarter\\\\KECO_AIRKOR_2013-4Q.xlsx',\n",
       " '../data_KECO_Airkor_HR/file_Quarter\\\\KECO_AIRKOR_2014-1Q.csv',\n",
       " '../data_KECO_Airkor_HR/file_Quarter\\\\KECO_AIRKOR_2014-2Q.csv',\n",
       " '../data_KECO_Airkor_HR/file_Quarter\\\\KECO_AIRKOR_2014-3Q.csv',\n",
       " '../data_KECO_Airkor_HR/file_Quarter\\\\KECO_AIRKOR_2014-4Q.csv',\n",
       " '../data_KECO_Airkor_HR/file_Quarter\\\\KECO_AIRKOR_2015-1Q.csv',\n",
       " '../data_KECO_Airkor_HR/file_Quarter\\\\KECO_AIRKOR_2015-2Q.csv',\n",
       " '../data_KECO_Airkor_HR/file_Quarter\\\\KECO_AIRKOR_2015-3Q.csv',\n",
       " '../data_KECO_Airkor_HR/file_Quarter\\\\KECO_AIRKOR_2015-4Q.csv',\n",
       " '../data_KECO_Airkor_HR/file_Quarter\\\\KECO_AIRKOR_2016-1Q.csv',\n",
       " '../data_KECO_Airkor_HR/file_Quarter\\\\KECO_AIRKOR_2016-2Q.csv',\n",
       " '../data_KECO_Airkor_HR/file_Quarter\\\\KECO_AIRKOR_2016-3Q.csv',\n",
       " '../data_KECO_Airkor_HR/file_Quarter\\\\KECO_AIRKOR_2016-4Q.csv',\n",
       " '../data_KECO_Airkor_HR/file_Quarter\\\\KECO_AIRKOR_2018-1Q.xlsx',\n",
       " '../data_KECO_Airkor_HR/file_Quarter\\\\KECO_AIRKOR_2018-2Q.xlsx',\n",
       " '../data_KECO_Airkor_HR/file_Quarter\\\\KECO_AIRKOR_2018-3Q.xlsx',\n",
       " '../data_KECO_Airkor_HR/file_Quarter\\\\KECO_AIRKOR_2018-4Q.xlsx']"
      ]
     },
     "execution_count": 7,
     "metadata": {},
     "output_type": "execute_result"
    }
   ],
   "source": [
    "# Define data root directory\n",
    "str_dir_Airkor_HR = \"../data_KECO_Airkor_HR/\"\n",
    "str_dir_Quarter = \"../data_KECO_Airkor_HR/file_Quarter/\"\n",
    "print(os.listdir(str_dir_Quarter))\n",
    "\n",
    "list_file_quarter = glob(str_dir_Quarter + \"*Q*\")\n",
    "print(len(list_file_quarter))\n",
    "list_file_quarter"
   ]
  },
  {
   "cell_type": "markdown",
   "metadata": {},
   "source": [
    "## 01-02. Data Load (df_raw)"
   ]
  },
  {
   "cell_type": "code",
   "execution_count": 12,
   "metadata": {},
   "outputs": [
    {
     "name": "stdout",
     "output_type": "stream",
     "text": [
      "KECO_AIRKOR_2010-1Q\n",
      "xlsx\n"
     ]
    },
    {
     "ename": "",
     "evalue": "",
     "output_type": "error",
     "traceback": [
      "\u001b[1;31mThe Kernel crashed while executing code in the current cell or a previous cell. \n",
      "\u001b[1;31mPlease review the code in the cell(s) to identify a possible cause of the failure. \n",
      "\u001b[1;31mClick <a href='https://aka.ms/vscodeJupyterKernelCrash'>here</a> for more info. \n",
      "\u001b[1;31mView Jupyter <a href='command:jupyter.viewOutput'>log</a> for further details."
     ]
    }
   ],
   "source": [
    "## Quarter Xlsx/CSV -> Monthly CSV 변환\n",
    "for i in range(0, len(list_file_quarter)):\n",
    "    str_file = str(list_file_quarter[i])[len(str_dir_Quarter):-5]\n",
    "    str_execute = str(list_file_quarter[i])[-4:]\n",
    "    print(str_file)\n",
    "\n",
    "    ## 엑셀파일인 경우\n",
    "    if str_execute == 'xlsx' : \n",
    "        print('xlsx')\n",
    "        Data_KECO_AIR_tmp = pd.read_excel(str_dir_Quarter + str_file + '.xlsx') # , sheet_name=\"Sheet1\", engine='openpyxl')\n",
    "        Data_KECO_AIR_tmp = com_KECO.Rename_KECO_AirKor(Data_KECO_AIR_tmp).reset_index()\n",
    "    ## 엑셀파일이 아닌 경우 (CSV)\n",
    "    else : \n",
    "        print(str_file)\n",
    "        try : Data_KECO_AIR_tmp = pd.read_csv(str_dir_Quarter + str_file + '.csv', encoding = 'cp949') \n",
    "        except UnicodeDecodeError : # UnicodeDecodeError: 'cp949' codec can't decode byte 0xa7 in position 4: illegal multibyte sequence\n",
    "            Data_KECO_AIR_tmp = pd.read_csv(str_dir_Quarter + str_file + '.csv', encoding = 'utf-8') \n",
    "        Data_KECO_AIR_tmp = com_KECO.Rename_KECO_AirKor(Data_KECO_AIR_tmp).reset_index()\n",
    "    \n",
    "    Data_KECO_AIR_tmp['YEAR'], Data_KECO_AIR_tmp['MONTH'], Data_KECO_AIR_tmp['DAY'], Data_KECO_AIR_tmp['HOUR'] = 0, 0, 0, 0\n",
    "\n",
    "    # 시간값 복원\n",
    "    for i in range(0, len(Data_KECO_AIR_tmp)):\n",
    "        ## String으로 입력된 시간값으로부터 YMDH 추출\n",
    "        Data_KECO_AIR_tmp['YEAR'].iloc[i] = int(str(Data_KECO_AIR_tmp['METER_DATE'].iloc[i])[:4])\n",
    "        Data_KECO_AIR_tmp['MONTH'].iloc[i] = int(str(Data_KECO_AIR_tmp['METER_DATE'].iloc[i])[4:6])\n",
    "        Data_KECO_AIR_tmp['DAY'].iloc[i] = int(str(Data_KECO_AIR_tmp['METER_DATE'].iloc[i])[6:8])\n",
    "        Data_KECO_AIR_tmp['HOUR'].iloc[i] = int(str(Data_KECO_AIR_tmp['METER_DATE'].iloc[i])[8:10]) - 1\n",
    "\n",
    "    ## 추출된 YMDH를 기반으로 METER_DATE Column 구성 (DATETIME 형식)\n",
    "    Data_KECO_AIR_tmp = com_date.create_col_datetime(Data_KECO_AIR_tmp, 'METER_DATE', 'YEAR', 'MONTH', 'DAY', 'HOUR')\n",
    "    ## 구성된 METER_DATE를 기반으로 YMDHM 재구성 및 전체적인 컬럼 정리\n",
    "    Data_KECO_AIR_tmp = com_date.create_col_ymdhm(Data_KECO_AIR_tmp, 'METER_DATE')[['METER_DATE'\n",
    "                                                                                , 'YEAR', 'MONTH', 'DAY', 'HOUR', 'MINUTE'\n",
    "                                                                                , 'REGION', 'CD_OBSERVATORY', 'NM_OBSERVATORY'\n",
    "                                                                                , 'SO2', 'CO', 'O3', 'NO2', 'PM10']]\n",
    "    ## 현재 파일의 분기로부터 포함된 월 추출\n",
    "    list_month = list(Data_KECO_AIR_tmp['MONTH'].drop_duplicates())\n",
    "\n",
    "    for tar_month in list_month:\n",
    "        print(tar_month)\n",
    "        str_file = str(list_file_quarter[0])[len(str_dir_Quarter):-7] + tar_month.zfill(2)\n",
    "        ## 해당 월 정보만 추출\n",
    "        df_tar_month = Data_KECO_AIR_tmp[(Data_KECO_AIR_tmp['MONTH'] == tar_month)]\n",
    "        ## csv Export\n",
    "        df_tar_month.to_csv(str_dir_Airkor_HR + str_file)"
   ]
  },
  {
   "cell_type": "code",
   "execution_count": null,
   "metadata": {},
   "outputs": [],
   "source": []
  },
  {
   "cell_type": "code",
   "execution_count": null,
   "metadata": {},
   "outputs": [],
   "source": []
  },
  {
   "cell_type": "code",
   "execution_count": null,
   "metadata": {},
   "outputs": [],
   "source": []
  }
 ],
 "metadata": {
  "anaconda-cloud": {},
  "kernelspec": {
   "display_name": "Python 3 (ipykernel)",
   "language": "python",
   "name": "python3"
  },
  "language_info": {
   "codemirror_mode": {
    "name": "ipython",
    "version": 3
   },
   "file_extension": ".py",
   "mimetype": "text/x-python",
   "name": "python",
   "nbconvert_exporter": "python",
   "pygments_lexer": "ipython3",
   "version": "3.10.9"
  }
 },
 "nbformat": 4,
 "nbformat_minor": 4
}
